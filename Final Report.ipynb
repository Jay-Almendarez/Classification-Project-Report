{
 "cells": [
  {
   "cell_type": "markdown",
   "id": "b5bc324b-e951-4a5c-9cc5-17ff45f3b85e",
   "metadata": {},
   "source": [
    "# Drivers of Churn"
   ]
  },
  {
   "cell_type": "markdown",
   "id": "7bebdef6-f994-4650-bb8a-db0a4e5b7c5d",
   "metadata": {},
   "source": [
    "Markdown Color Key:\n",
    "\n",
    "<font color='red'>drivers</font>\n"
   ]
  },
  {
   "cell_type": "markdown",
   "id": "771947c3-8b5f-44ef-84cc-cb8c3c6f36db",
   "metadata": {
    "tags": []
   },
   "source": [
    "# Planning"
   ]
  },
  {
   "cell_type": "markdown",
   "id": "f8cfe9cd-2a0f-482e-81a0-eae3d7732b01",
   "metadata": {},
   "source": [
    "___"
   ]
  },
  {
   "cell_type": "markdown",
   "id": "2fe979a4-825a-43fd-9b24-ff03ab44e3bf",
   "metadata": {},
   "source": [
    "## Primary Goals: \n",
    "- Determine key drivers of churn from Telco Dataset. \n",
    "- Determine the most viable ML model and accurately predict churn with it."
   ]
  },
  {
   "cell_type": "markdown",
   "id": "46ae4ca0-dc64-4dec-9c20-5a4fefd00c57",
   "metadata": {},
   "source": [
    "## Imports"
   ]
  },
  {
   "cell_type": "code",
   "execution_count": 1,
   "id": "d6cb8fdd-d501-4f59-8efc-8fb0ef67b20c",
   "metadata": {
    "tags": []
   },
   "outputs": [],
   "source": [
    "# import everything I need from various other notebooks and python files for finalizing project\n",
    "import pandas as pd, numpy as np\n",
    "import acquire as acq, prepare as prep\n",
    "import seaborn as sns, matplotlib.pyplot as plt\n",
    "import os\n",
    "from acquire import get_connection, get_telco_data\n",
    "from prepare import prep_telco, dropped\n",
    "from sklearn.model_selection import train_test_split\n",
    "from modeling import dt_comp, rf_comp, knn_comp, lr_comp, model_comp\n",
    "from evaluation import driv_viz, chi_sqr_con, chi_sqr_int, chi_sqr_mon, cr_comp\n",
    "# I know you said not to do this Tasha but those warnings were too annoying not to\n",
    "import warnings\n",
    "warnings.filterwarnings(\"ignore\")"
   ]
  },
  {
   "cell_type": "markdown",
   "id": "69f29bab-d33d-4796-b180-f9f0ac045da4",
   "metadata": {},
   "source": [
    "___"
   ]
  },
  {
   "cell_type": "markdown",
   "id": "3208f659-b892-4719-873f-ed66623dacc4",
   "metadata": {},
   "source": [
    "# Acquisition"
   ]
  },
  {
   "cell_type": "code",
   "execution_count": 2,
   "id": "3cb57d79-37f9-4e99-9b16-7685e37a8b29",
   "metadata": {
    "tags": []
   },
   "outputs": [],
   "source": [
    "# using a function, establish a connection to MySQLWorkbench and get me the telco dataset\n",
    "telco = get_telco_data()"
   ]
  },
  {
   "cell_type": "markdown",
   "id": "0e582384-601b-4a01-9726-1ed645f7237f",
   "metadata": {
    "jp-MarkdownHeadingCollapsed": true,
    "tags": []
   },
   "source": [
    "- Gathered Telco Dataset from SQL\n",
    "- Before cleaning, the dataset had a size of 7043 rows by 24 columns\n",
    "- Every row present is indicative of all our customers, churned or not\n",
    "- The columns are features for each of those customers"
   ]
  },
  {
   "cell_type": "markdown",
   "id": "fddfe91f-9d0e-42ef-a563-5506cf929f73",
   "metadata": {},
   "source": [
    "___"
   ]
  },
  {
   "cell_type": "markdown",
   "id": "d36134cc-b34a-468d-aefa-40b7ea002ee7",
   "metadata": {},
   "source": [
    "# Preparation"
   ]
  },
  {
   "cell_type": "code",
   "execution_count": 3,
   "id": "243fc9a2-b20c-48f5-957a-82487006e5ed",
   "metadata": {
    "tags": []
   },
   "outputs": [],
   "source": [
    "# call the function to do all the cleaning for me\n",
    "telco = prep_telco(telco)\n",
    "# do these additional cleaning steps\n",
    "telco['target'] = (telco['churn'] == 'Yes')\n",
    "telco = telco.drop(columns='churn')\n",
    "# split that new cleaned data into a tain, validate, and test set\n",
    "train_validate, test = train_test_split(telco, test_size=0.2, random_state=117, stratify=telco['target'])\n",
    "train, validate = train_test_split(train_validate, test_size=0.3, random_state=117, stratify=train_validate['target'])"
   ]
  },
  {
   "cell_type": "markdown",
   "id": "d547ed9f-cca6-437a-a08e-1347afbb087b",
   "metadata": {},
   "source": [
    "## Steps Taken to Clean Dataset:\n",
    "- Dropped unnecessary columns\n",
    "- Filled in null values\n",
    "- Determined if columns were appropriate data types \n",
    "- Encoded and/or created dummy variables where needed\n",
    "- Renamed columns for visual clarity\n",
    "- Split cleaned data into train, validate, test (~55/25/20), stratifying on 'target' ('churn')"
   ]
  },
  {
   "cell_type": "markdown",
   "id": "9d3dd5f9-4a4e-4ac8-b4f8-b71993e8084f",
   "metadata": {},
   "source": [
    "## Let's look at a small view of the training data so far"
   ]
  },
  {
   "cell_type": "code",
   "execution_count": 4,
   "id": "af7fc4ea-5c76-4862-9fc4-77dda688777e",
   "metadata": {
    "tags": []
   },
   "outputs": [
    {
     "data": {
      "text/html": [
       "<div>\n",
       "<style scoped>\n",
       "    .dataframe tbody tr th:only-of-type {\n",
       "        vertical-align: middle;\n",
       "    }\n",
       "\n",
       "    .dataframe tbody tr th {\n",
       "        vertical-align: top;\n",
       "    }\n",
       "\n",
       "    .dataframe thead th {\n",
       "        text-align: right;\n",
       "    }\n",
       "</style>\n",
       "<table border=\"1\" class=\"dataframe\">\n",
       "  <thead>\n",
       "    <tr style=\"text-align: right;\">\n",
       "      <th></th>\n",
       "      <th>senior_citizen</th>\n",
       "      <th>tenure</th>\n",
       "      <th>monthly_charges</th>\n",
       "      <th>total_charges</th>\n",
       "      <th>gender_</th>\n",
       "      <th>has_partner</th>\n",
       "      <th>has_dependents</th>\n",
       "      <th>has_phone_service</th>\n",
       "      <th>has_multiple_lines</th>\n",
       "      <th>contract</th>\n",
       "      <th>internet_service</th>\n",
       "      <th>has_automatic_payment</th>\n",
       "      <th>has_amenities</th>\n",
       "      <th>has_internet_service</th>\n",
       "      <th>target</th>\n",
       "    </tr>\n",
       "  </thead>\n",
       "  <tbody>\n",
       "    <tr>\n",
       "      <th>4993</th>\n",
       "      <td>0</td>\n",
       "      <td>56</td>\n",
       "      <td>59.80</td>\n",
       "      <td>3457.45</td>\n",
       "      <td>1</td>\n",
       "      <td>1</td>\n",
       "      <td>1</td>\n",
       "      <td>1</td>\n",
       "      <td>1</td>\n",
       "      <td>2</td>\n",
       "      <td>1</td>\n",
       "      <td>1</td>\n",
       "      <td>0</td>\n",
       "      <td>1</td>\n",
       "      <td>False</td>\n",
       "    </tr>\n",
       "    <tr>\n",
       "      <th>190</th>\n",
       "      <td>0</td>\n",
       "      <td>5</td>\n",
       "      <td>96.10</td>\n",
       "      <td>453.40</td>\n",
       "      <td>1</td>\n",
       "      <td>0</td>\n",
       "      <td>0</td>\n",
       "      <td>1</td>\n",
       "      <td>1</td>\n",
       "      <td>0</td>\n",
       "      <td>2</td>\n",
       "      <td>0</td>\n",
       "      <td>0</td>\n",
       "      <td>1</td>\n",
       "      <td>True</td>\n",
       "    </tr>\n",
       "    <tr>\n",
       "      <th>5071</th>\n",
       "      <td>1</td>\n",
       "      <td>16</td>\n",
       "      <td>54.55</td>\n",
       "      <td>825.10</td>\n",
       "      <td>1</td>\n",
       "      <td>1</td>\n",
       "      <td>0</td>\n",
       "      <td>1</td>\n",
       "      <td>1</td>\n",
       "      <td>0</td>\n",
       "      <td>1</td>\n",
       "      <td>1</td>\n",
       "      <td>0</td>\n",
       "      <td>1</td>\n",
       "      <td>False</td>\n",
       "    </tr>\n",
       "    <tr>\n",
       "      <th>461</th>\n",
       "      <td>0</td>\n",
       "      <td>63</td>\n",
       "      <td>71.90</td>\n",
       "      <td>4479.20</td>\n",
       "      <td>1</td>\n",
       "      <td>0</td>\n",
       "      <td>0</td>\n",
       "      <td>1</td>\n",
       "      <td>2</td>\n",
       "      <td>2</td>\n",
       "      <td>1</td>\n",
       "      <td>1</td>\n",
       "      <td>1</td>\n",
       "      <td>1</td>\n",
       "      <td>False</td>\n",
       "    </tr>\n",
       "    <tr>\n",
       "      <th>2383</th>\n",
       "      <td>1</td>\n",
       "      <td>3</td>\n",
       "      <td>74.60</td>\n",
       "      <td>239.05</td>\n",
       "      <td>0</td>\n",
       "      <td>1</td>\n",
       "      <td>0</td>\n",
       "      <td>1</td>\n",
       "      <td>1</td>\n",
       "      <td>0</td>\n",
       "      <td>2</td>\n",
       "      <td>1</td>\n",
       "      <td>0</td>\n",
       "      <td>1</td>\n",
       "      <td>False</td>\n",
       "    </tr>\n",
       "  </tbody>\n",
       "</table>\n",
       "</div>"
      ],
      "text/plain": [
       "      senior_citizen  tenure  monthly_charges  total_charges  gender_  \\\n",
       "4993               0      56            59.80        3457.45        1   \n",
       "190                0       5            96.10         453.40        1   \n",
       "5071               1      16            54.55         825.10        1   \n",
       "461                0      63            71.90        4479.20        1   \n",
       "2383               1       3            74.60         239.05        0   \n",
       "\n",
       "      has_partner  has_dependents  has_phone_service  has_multiple_lines  \\\n",
       "4993            1               1                  1                   1   \n",
       "190             0               0                  1                   1   \n",
       "5071            1               0                  1                   1   \n",
       "461             0               0                  1                   2   \n",
       "2383            1               0                  1                   1   \n",
       "\n",
       "      contract  internet_service  has_automatic_payment  has_amenities  \\\n",
       "4993         2                 1                      1              0   \n",
       "190          0                 2                      0              0   \n",
       "5071         0                 1                      1              0   \n",
       "461          2                 1                      1              1   \n",
       "2383         0                 2                      1              0   \n",
       "\n",
       "      has_internet_service  target  \n",
       "4993                     1   False  \n",
       "190                      1    True  \n",
       "5071                     1   False  \n",
       "461                      1   False  \n",
       "2383                     1   False  "
      ]
     },
     "execution_count": 4,
     "metadata": {},
     "output_type": "execute_result"
    }
   ],
   "source": [
    "# show me the top five rown of my training data\n",
    "train.head(5)"
   ]
  },
  {
   "cell_type": "markdown",
   "id": "a0ce4c89-ecec-491e-ba73-654b8eb2b06c",
   "metadata": {},
   "source": [
    "## Data Dictionary"
   ]
  },
  {
   "cell_type": "markdown",
   "id": "8fc46d03-ca01-4ad0-aab5-b6c5f003dfc7",
   "metadata": {
    "tags": []
   },
   "source": [
    "| Feature | Definition | \n",
    "| :- | :- |\n",
    "| Senior Citizen | If a customer is a senior citizen, 0 = No, 1 = Yes |\n",
    "| Tenure | The amount of months a customer has been with or is currently with company |\n",
    "| <font color='red'>Monthly Charges</font> | Amount a customer is charged monthly |\n",
    "| Total Charges | Cumulative amount a customer has paid |\n",
    "| Gender | If a customer is male or female, 0 = Female, 1 = Male |\n",
    "| Has Partner | If a customer has a partner, 0 = No, 1 = Yes |\n",
    "| Has Dependents | If a customer has dependents, 0 = No, 1 = Yes |\n",
    "| Has Multiple Lines | If a customer has multiple lines, 0 = No, 1 = Yes |\n",
    "| <font color='red'>Contract</font> | Type of contract customer has, 0 = Month-to-month, 1 = One year, 2 = Two year|\n",
    "| Internet Service | Type of Internet Service customer has, 0 = No internet service, 1 = DSL, 2 = Fiber optic |\n",
    "| Has Automatic Payment | If a customer has automatic payment, 0 = No, 1 = Yes |\n",
    "| Has Amenities | If a customer has a majority of amenities from (tech_support, online_security, paperless_billing, streaming_movies, online_backup, streaming_tv, device_protection), 0 = No, 1 = Yes |\n",
    "| <font color='red'>Has Internet Service</font> | If a customer has internet service, 0 = No, 1 = Yes |\n",
    "| Churn (Target) | If a customer has churned, False = No, True = Yes |"
   ]
  },
  {
   "cell_type": "markdown",
   "id": "b9dbf4a0-5de4-4769-b721-203a8b03fb57",
   "metadata": {},
   "source": [
    "___"
   ]
  },
  {
   "cell_type": "markdown",
   "id": "eb0de13e-6a14-485b-9d4b-3dc2035312c3",
   "metadata": {},
   "source": [
    "# Exploration"
   ]
  },
  {
   "cell_type": "markdown",
   "id": "191f1089-ad20-4644-a14b-87422673fadb",
   "metadata": {
    "tags": []
   },
   "source": [
    "## Initial Hypothesis/Predictions:\n",
    "- Churn rate is affected by how much a customer pays for their plan.\n",
    "- Amenities or additional benefits a customer will affect churn rate."
   ]
  },
  {
   "cell_type": "markdown",
   "id": "e4546e30-0980-4b60-ae51-962fb450f32d",
   "metadata": {},
   "source": [
    "### At first, we had viewed all features side by side to see churn rate comparison but after very messy data, we decided to isolate the top 3"
   ]
  },
  {
   "cell_type": "code",
   "execution_count": 5,
   "id": "58b52cf1-072d-4462-a7e3-ce92f2c48d17",
   "metadata": {},
   "outputs": [
    {
     "name": "stdout",
     "output_type": "stream",
     "text": [
      "\n",
      "Churn rate of customers with 2 year contract:\n",
      "2.46%\n",
      "    Churn rate of customers with 1 year contract:\n",
      "11.74%\n",
      "    Churn rate of customers with monthly contract:\n",
      "42.2%\n",
      "\n",
      "    Churn rate of customers with internet service:\n",
      "30.03%\n",
      "    Churn rate of customers without internet service:\n",
      "6.88%\n",
      "\n",
      "    Churn rate of customers with higher than average monthly charge:\n",
      "34.9%\n",
      "    Churn rate of customers with lower than average monthly charge:\n",
      "15.99%    \n"
     ]
    }
   ],
   "source": [
    "# Calling function to print top 3 drivers churn rate to visualize dropoff\n",
    "cr_comp()"
   ]
  },
  {
   "cell_type": "markdown",
   "id": "f59a9727-ed50-48fd-974a-c67d93a74e72",
   "metadata": {
    "tags": []
   },
   "source": [
    "## Top 3 drivers:\n",
    "- The greatest difference in churn rate is caused by <font color='red'>contract type</font>\n",
    "  - Churn rate drops about 40% from a monthly contract to a 2 year contract\n",
    "  - Churn rate drops about 30% from a monthly contract to a 1 year contract\n",
    "- <font color='red'>Not having internet service</font> reduced churn rate by about 23%\n",
    "- Having a lower than average <font color='red'>monthly charge</font> reduced churn rate by about 19%"
   ]
  },
  {
   "cell_type": "markdown",
   "id": "b8619997-6f7b-445b-8ed1-17779e9b6fa5",
   "metadata": {},
   "source": [
    "## Stats Testing"
   ]
  },
  {
   "cell_type": "markdown",
   "id": "5267d4ca-7fad-4869-aa59-017858e7579c",
   "metadata": {},
   "source": [
    "## Because we are determining dependence by comparing categorical features, we did a $χ^2$ test:"
   ]
  },
  {
   "cell_type": "markdown",
   "id": "35aeb284-e109-4941-b7ca-858516d58c38",
   "metadata": {},
   "source": [
    "### The following features all showed statistical dependence:"
   ]
  },
  {
   "cell_type": "markdown",
   "id": "53a05625-21b6-4ae7-b57d-0f72210e95f6",
   "metadata": {},
   "source": [
    "#### <font color='red'>Monthly Charges: </font>"
   ]
  },
  {
   "cell_type": "code",
   "execution_count": 6,
   "id": "8f5102b2-edfe-4b51-9767-66ff971b1e4c",
   "metadata": {
    "tags": []
   },
   "outputs": [
    {
     "name": "stdout",
     "output_type": "stream",
     "text": [
      "P-Value: 1.1373136184534834e-06\n",
      "Αlpha: 0.05\n",
      "\n",
      "We reject the null hypothesis that churn rate is independent of monthly charges.\n",
      "Evidence suggests that churn rate is dependent of monthly charges.\n"
     ]
    }
   ],
   "source": [
    "# calling function to perform chi squared test on driver 'monthly_charges' and print results\n",
    "chi_sqr_mon()"
   ]
  },
  {
   "cell_type": "markdown",
   "id": "ca20b044-42b5-489a-a0d3-f2fa5cc14b9c",
   "metadata": {},
   "source": [
    "#### <font color='red'>Having Internet Service: </font>"
   ]
  },
  {
   "cell_type": "code",
   "execution_count": 7,
   "id": "cb20c6da-294e-47ae-b8eb-649bb0d9c7e4",
   "metadata": {
    "tags": []
   },
   "outputs": [
    {
     "name": "stdout",
     "output_type": "stream",
     "text": [
      "P-Value: 7.684503000033716e-32\n",
      "Αlpha: 0.05\n",
      "\n",
      "We reject the null hypothesis that churn rate is independent of if a customer has internet service.\n",
      "Evidence suggests that churn rate is dependent on if a customer has internet service.\n"
     ]
    }
   ],
   "source": [
    "# calling function to perform chi squared test on driver 'has_internet_service' and print results\n",
    "chi_sqr_int()"
   ]
  },
  {
   "cell_type": "markdown",
   "id": "b4ac7917-5df4-4540-b545-1c791fca72de",
   "metadata": {},
   "source": [
    "#### <font color='red'>Contract Type:</font>"
   ]
  },
  {
   "cell_type": "code",
   "execution_count": 8,
   "id": "144cb519-2480-46bb-b485-6ae4dc9388e2",
   "metadata": {
    "tags": []
   },
   "outputs": [
    {
     "name": "stdout",
     "output_type": "stream",
     "text": [
      "P-Value: 5.944932887423268e-141\n",
      "Αlpha: 0.05\n",
      "\n",
      "We reject the null hypothesis that churn rate is independent of their contract.\n",
      "Evidence suggests that churn rate is dependent on their contract.\n"
     ]
    }
   ],
   "source": [
    "# calling function to perform chi squared test on driver 'contract' and print results\n",
    "chi_sqr_con()"
   ]
  },
  {
   "cell_type": "markdown",
   "id": "50574d6a-2c42-4fd1-bce5-7d2dec3ccfe6",
   "metadata": {},
   "source": [
    "___"
   ]
  },
  {
   "cell_type": "markdown",
   "id": "199b99cf-d959-4993-8be4-faaa7a691f75",
   "metadata": {},
   "source": [
    "# Modeling"
   ]
  },
  {
   "cell_type": "markdown",
   "id": "e6979286-a154-4657-a819-a55e8023a981",
   "metadata": {},
   "source": [
    "## The majority of customers had not churned ('0') and made up 73% of our total, so that’s our baseline"
   ]
  },
  {
   "cell_type": "markdown",
   "id": "3c47bd2e-90ec-4d24-b01b-f282340ce8f1",
   "metadata": {},
   "source": [
    "### Four different models were created to determine our best accuracy of our split data:\n",
    "- Decision Tree\n",
    "- Random Forest\n",
    "- KNN\n",
    "- Logistic Regression"
   ]
  },
  {
   "cell_type": "markdown",
   "id": "706730a6-b026-439f-9af2-2dd0f42882a5",
   "metadata": {},
   "source": [
    "### To determine the best hyperparameters, we made a visual:"
   ]
  },
  {
   "cell_type": "code",
   "execution_count": 11,
   "id": "4877919f-c55e-46b6-bc94-4277d078de5c",
   "metadata": {
    "tags": []
   },
   "outputs": [
    {
     "data": {
      "image/png": "[encoded data removed]",
      "text/plain": [
       "<Figure size 640x480 with 1 Axes>"
      ]
     },
     "metadata": {},
     "output_type": "display_data"
    },
    {
     "data": {
      "image/png": "[encoded data removed]",
      "text/plain": [
       "<Figure size 640x480 with 1 Axes>"
      ]
     },
     "metadata": {},
     "output_type": "display_data"
    },
    {
     "data": {
      "image/png": "[encoded data removed]",
      "text/plain": [
       "<Figure size 640x480 with 1 Axes>"
      ]
     },
     "metadata": {},
     "output_type": "display_data"
    }
   ],
   "source": [
    "# 3 function calls to bring in graphs designed to find best criteria for modeling\n",
    "dt_comp(), rf_comp(), knn_comp()\n",
    "plt.show()"
   ]
  },
  {
   "cell_type": "markdown",
   "id": "3729b703-ab43-48b8-b9bb-165252eb94dc",
   "metadata": {},
   "source": [
    "#### For Logistic Regression, we created five models with varying feature sizes to cast a wide net and determined the first Model we created had the best accuracy score"
   ]
  },
  {
   "cell_type": "code",
   "execution_count": 10,
   "id": "e48767c7-d887-4924-9a11-8760677528d4",
   "metadata": {
    "tags": []
   },
   "outputs": [
    {
     "name": "stdout",
     "output_type": "stream",
     "text": [
      "Logistic Regression Model Accuracy Scores:\n",
      "\n",
      "Baseline Accuracy Score:\n",
      "73.463013%\n",
      "\n",
      "Model 1 Train Accuracy Score:\n",
      "80.167385%\n",
      "Model 1 Validate Accuracy Score:\n",
      "79.302188%\n",
      "\n",
      "Model 2 Train Accuracy Score:\n",
      "79.939133%\n",
      "Model 2 Validate Accuracy Score:\n",
      "78.888232%\n",
      "\n",
      "Model 3 Train Accuracy Score:\n",
      "79.431905%\n",
      "Model 3 Validate Accuracy Score:\n",
      "78.356002%\n",
      "\n",
      "Model 4 Train Accuracy Score:\n",
      "78.899315%\n",
      "Model 4 Validate Accuracy Score:\n",
      "78.415139%\n",
      "\n",
      "Model 5 Train Accuracy Score:\n",
      "78.721785%\n",
      "Model 5 Validate Accuracy Score:\n",
      "76.700177%    \n"
     ]
    }
   ],
   "source": [
    "# function from modeling to compare 5 logistic regression models percentages side by side\n",
    "lr_comp()"
   ]
  },
  {
   "cell_type": "markdown",
   "id": "3f407f6a-d5b4-47b2-8519-5006e07b5fa2",
   "metadata": {},
   "source": [
    "___"
   ]
  },
  {
   "cell_type": "markdown",
   "id": "ad730ca4-bfe1-452a-ba04-ca4f12186926",
   "metadata": {
    "tags": []
   },
   "source": [
    "| Model Type | Decision Tree | Random Forest | K Nearest Neighbor | Decision Tree |\n",
    "| :-: | :-: | :-: | :-: | :-: |\n",
    "| Training Accuracy | 80.294192% | 80.243469% | 80.243469% | 80.167385% |\n",
    "| Validate Accuracy | 80.898876% | 81.431106% | 77.942046% | 79.302188% |"
   ]
  },
  {
   "cell_type": "markdown",
   "id": "bd18646a-4785-4990-a674-3d828469fdeb",
   "metadata": {},
   "source": [
    "___"
   ]
  },
  {
   "cell_type": "markdown",
   "id": "4d407cbc-b7ce-482b-87ac-cc88a137ba83",
   "metadata": {},
   "source": [
    "### Both our Decision Tree and Random Forest models performed in the 80% range for the training and validation set so we'll run the test set to see which comes out best."
   ]
  },
  {
   "cell_type": "markdown",
   "id": "a801ad65-9b13-4a0e-ad4a-4fef1003dfe1",
   "metadata": {},
   "source": [
    "| Model Type | Decision Tree | Random Forest | \n",
    "| :-: | :-: | :-: |\n",
    "| Training Accuracy | 80.294192% | 80.243469% |\n",
    "| Validate Accuracy | 80.898876% | 81.431106% |\n",
    "| Test Accuracy | 81.689141% | 81.618169% |"
   ]
  },
  {
   "cell_type": "markdown",
   "id": "58b9396b-02b0-44d2-b201-8ee51524f07f",
   "metadata": {},
   "source": [
    "#### So our Decision Tree Model performed the best at almost 82% to our Baseline of about 74%"
   ]
  },
  {
   "cell_type": "markdown",
   "id": "3b0b1a67-8071-48a2-9d1c-a9940cb21d9e",
   "metadata": {},
   "source": [
    "___"
   ]
  },
  {
   "cell_type": "markdown",
   "id": "1b2a5636-8a96-42aa-8c9e-f28551666143",
   "metadata": {},
   "source": [
    "# Conclusion"
   ]
  },
  {
   "cell_type": "markdown",
   "id": "0e9d8e91-4a52-4c28-af7c-2b28b79f3b1c",
   "metadata": {},
   "source": [
    "## Goal Recap:\n",
    "- Determine key drivers of churn from Telco Dataset.\n",
    "  - Contract Type being the primary driver, Monthly Charges and Having Internet Service being secondary.\n",
    "- Determine the most viable ML model and accurately predict churn with it.\n",
    "  - After going through a few models, we have selected the best one for our data and beat baseline accuracy."
   ]
  },
  {
   "cell_type": "markdown",
   "id": "0cacdbcb-0d5b-44e9-bfe2-df04b4ce1344",
   "metadata": {},
   "source": [
    "## Key Findings:\n",
    "- Many of the features we started with appeared to affect customer churn but Contract was the most significant."
   ]
  },
  {
   "cell_type": "markdown",
   "id": "d1f0dd0f-f9b6-4cc7-b20a-3eb3cbc0a302",
   "metadata": {},
   "source": [
    "## Recommendations:\n",
    "- Push more customers to yearly contracts"
   ]
  },
  {
   "cell_type": "markdown",
   "id": "8813e627-b051-49bf-bff0-f73e02cec5b5",
   "metadata": {},
   "source": [
    "## Next Steps:\n",
    "- Group Contract feature further to 'yearly', and 'monthly' for further analysis of driver importance\n",
    "- Perform more feature selection, remove features like 'has_dependents', and 'has_phone_service'"
   ]
  }
 ],
 "metadata": {
  "kernelspec": {
   "display_name": "Python 3 (ipykernel)",
   "language": "python",
   "name": "python3"
  },
  "language_info": {
   "codemirror_mode": {
    "name": "ipython",
    "version": 3
   },
   "file_extension": ".py",
   "mimetype": "text/x-python",
   "name": "python",
   "nbconvert_exporter": "python",
   "pygments_lexer": "ipython3",
   "version": "3.11.3"
  },
  "toc-showmarkdowntxt": true
 },
 "nbformat": 4,
 "nbformat_minor": 5
}
