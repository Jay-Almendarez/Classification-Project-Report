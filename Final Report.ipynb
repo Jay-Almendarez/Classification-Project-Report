{
 "cells": [
  {
   "cell_type": "markdown",
   "id": "b5bc324b-e951-4a5c-9cc5-17ff45f3b85e",
   "metadata": {},
   "source": [
    "# Drivers of Churn"
   ]
  },
  {
   "cell_type": "markdown",
   "id": "771947c3-8b5f-44ef-84cc-cb8c3c6f36db",
   "metadata": {
    "tags": []
   },
   "source": [
    "# Planning"
   ]
  },
  {
   "cell_type": "markdown",
   "id": "f8cfe9cd-2a0f-482e-81a0-eae3d7732b01",
   "metadata": {},
   "source": [
    "___"
   ]
  },
  {
   "cell_type": "markdown",
   "id": "2fe979a4-825a-43fd-9b24-ff03ab44e3bf",
   "metadata": {},
   "source": [
    "## Primary Goals: \n",
    "- Determine drivers of churn from Telco Dataset. \n",
    "- Determine and create a ML Classification Model to accurately predict churn."
   ]
  },
  {
   "cell_type": "markdown",
   "id": "46ae4ca0-dc64-4dec-9c20-5a4fefd00c57",
   "metadata": {},
   "source": [
    "## Imports"
   ]
  },
  {
   "cell_type": "code",
   "execution_count": 1,
   "id": "d6cb8fdd-d501-4f59-8efc-8fb0ef67b20c",
   "metadata": {
    "tags": []
   },
   "outputs": [],
   "source": [
    "import pandas as pd, numpy as np\n",
    "import acquire as acq, prepare as prep\n",
    "import seaborn as sns, matplotlib.pyplot as plt\n",
    "import os\n",
    "from acquire import get_connection, get_telco_data\n",
    "from prepare import prep_telco, dropped\n",
    "from sklearn.model_selection import train_test_split\n",
    "from modeling import dt_comp, rf_comp, knn_comp, lr_comp, model_comp\n",
    "\n",
    "import warnings\n",
    "warnings.filterwarnings(\"ignore\")"
   ]
  },
  {
   "cell_type": "markdown",
   "id": "c5694b74-1c52-401e-847c-c784fda6e215",
   "metadata": {
    "tags": []
   },
   "source": [
    "## Steps:\n",
    "- We need to gather the info from the Telco Dataset first. \n",
    "- The initial intent is to grab everything through functions we have created previously and store the dataset here to be processed further.\n",
    "- After gathering the data it needs to be cleaned and prepped. Initially that means determining what to do with possible null values.\n",
    "- We'll need different types of information for different stages of the pipeline, so we'll likely change the data a few different times at different stages."
   ]
  },
  {
   "cell_type": "markdown",
   "id": "69f29bab-d33d-4796-b180-f9f0ac045da4",
   "metadata": {},
   "source": [
    "___"
   ]
  },
  {
   "cell_type": "markdown",
   "id": "3208f659-b892-4719-873f-ed66623dacc4",
   "metadata": {},
   "source": [
    "# Acquisition"
   ]
  },
  {
   "cell_type": "code",
   "execution_count": 2,
   "id": "3cb57d79-37f9-4e99-9b16-7685e37a8b29",
   "metadata": {
    "tags": []
   },
   "outputs": [],
   "source": [
    "telco = get_telco_data()"
   ]
  },
  {
   "cell_type": "markdown",
   "id": "0e582384-601b-4a01-9726-1ed645f7237f",
   "metadata": {
    "jp-MarkdownHeadingCollapsed": true,
    "tags": []
   },
   "source": [
    "- Gathered Telco Dataset from SQL\n",
    "- Before cleaning, the dataset had a size of 7043 rows by 24 columns\n",
    "- Every row present is indicative of all our customers, churned or not\n",
    "- The columns are features for each of those customers"
   ]
  },
  {
   "cell_type": "markdown",
   "id": "fddfe91f-9d0e-42ef-a563-5506cf929f73",
   "metadata": {},
   "source": [
    "___"
   ]
  },
  {
   "cell_type": "markdown",
   "id": "d36134cc-b34a-468d-aefa-40b7ea002ee7",
   "metadata": {},
   "source": [
    "# Preparation"
   ]
  },
  {
   "cell_type": "code",
   "execution_count": 3,
   "id": "243fc9a2-b20c-48f5-957a-82487006e5ed",
   "metadata": {
    "tags": []
   },
   "outputs": [],
   "source": [
    "telco = prep_telco(telco)\n",
    "telco['target'] = (telco['churn'] == 'Yes')\n",
    "telco = telco.drop(columns='churn')\n",
    "train_validate, test = train_test_split(telco, test_size=0.2, random_state=117, stratify=telco['target'])\n",
    "train, validate = train_test_split(train_validate, test_size=0.3, random_state=117, stratify=train_validate['target'])"
   ]
  },
  {
   "cell_type": "markdown",
   "id": "d547ed9f-cca6-437a-a08e-1347afbb087b",
   "metadata": {},
   "source": [
    "## Steps Taken to Clean Dataset:\n",
    "- Dropped unnecessary columns\n",
    "- Filled in null values\n",
    "- Determined if columns were appropriate data types \n",
    "- Encoded and/or created dummy variables where needed\n",
    "- Renamed columns for visual clarity\n",
    "- Split cleaned data into train, validate, test (~55/25/20), stratifying on 'target' ('churn')"
   ]
  },
  {
   "cell_type": "markdown",
   "id": "a0ce4c89-ecec-491e-ba73-654b8eb2b06c",
   "metadata": {},
   "source": [
    "## Data Dictionary"
   ]
  },
  {
   "cell_type": "code",
   "execution_count": null,
   "id": "c72e6e79-d8b0-41ab-8eaf-85ad0f330a13",
   "metadata": {},
   "outputs": [],
   "source": [
    "#"
   ]
  },
  {
   "cell_type": "markdown",
   "id": "9d3dd5f9-4a4e-4ac8-b4f8-b71993e8084f",
   "metadata": {},
   "source": [
    "## Let's look at a small view of the training data so far"
   ]
  },
  {
   "cell_type": "code",
   "execution_count": 4,
   "id": "af7fc4ea-5c76-4862-9fc4-77dda688777e",
   "metadata": {
    "tags": []
   },
   "outputs": [
    {
     "data": {
      "text/html": [
       "<div>\n",
       "<style scoped>\n",
       "    .dataframe tbody tr th:only-of-type {\n",
       "        vertical-align: middle;\n",
       "    }\n",
       "\n",
       "    .dataframe tbody tr th {\n",
       "        vertical-align: top;\n",
       "    }\n",
       "\n",
       "    .dataframe thead th {\n",
       "        text-align: right;\n",
       "    }\n",
       "</style>\n",
       "<table border=\"1\" class=\"dataframe\">\n",
       "  <thead>\n",
       "    <tr style=\"text-align: right;\">\n",
       "      <th></th>\n",
       "      <th>senior_citizen</th>\n",
       "      <th>tenure</th>\n",
       "      <th>monthly_charges</th>\n",
       "      <th>total_charges</th>\n",
       "      <th>gender_</th>\n",
       "      <th>has_partner</th>\n",
       "      <th>has_dependents</th>\n",
       "      <th>has_phone_service</th>\n",
       "      <th>has_multiple_lines</th>\n",
       "      <th>contract</th>\n",
       "      <th>internet_service</th>\n",
       "      <th>has_automatic_payment</th>\n",
       "      <th>has_amenities</th>\n",
       "      <th>has_internet_service</th>\n",
       "      <th>target</th>\n",
       "    </tr>\n",
       "  </thead>\n",
       "  <tbody>\n",
       "    <tr>\n",
       "      <th>4993</th>\n",
       "      <td>0</td>\n",
       "      <td>56</td>\n",
       "      <td>59.80</td>\n",
       "      <td>3457.45</td>\n",
       "      <td>1</td>\n",
       "      <td>1</td>\n",
       "      <td>1</td>\n",
       "      <td>1</td>\n",
       "      <td>1</td>\n",
       "      <td>2</td>\n",
       "      <td>1</td>\n",
       "      <td>1</td>\n",
       "      <td>0</td>\n",
       "      <td>1</td>\n",
       "      <td>False</td>\n",
       "    </tr>\n",
       "    <tr>\n",
       "      <th>190</th>\n",
       "      <td>0</td>\n",
       "      <td>5</td>\n",
       "      <td>96.10</td>\n",
       "      <td>453.40</td>\n",
       "      <td>1</td>\n",
       "      <td>0</td>\n",
       "      <td>0</td>\n",
       "      <td>1</td>\n",
       "      <td>1</td>\n",
       "      <td>0</td>\n",
       "      <td>2</td>\n",
       "      <td>0</td>\n",
       "      <td>0</td>\n",
       "      <td>1</td>\n",
       "      <td>True</td>\n",
       "    </tr>\n",
       "    <tr>\n",
       "      <th>5071</th>\n",
       "      <td>1</td>\n",
       "      <td>16</td>\n",
       "      <td>54.55</td>\n",
       "      <td>825.10</td>\n",
       "      <td>1</td>\n",
       "      <td>1</td>\n",
       "      <td>0</td>\n",
       "      <td>1</td>\n",
       "      <td>1</td>\n",
       "      <td>0</td>\n",
       "      <td>1</td>\n",
       "      <td>1</td>\n",
       "      <td>0</td>\n",
       "      <td>1</td>\n",
       "      <td>False</td>\n",
       "    </tr>\n",
       "    <tr>\n",
       "      <th>461</th>\n",
       "      <td>0</td>\n",
       "      <td>63</td>\n",
       "      <td>71.90</td>\n",
       "      <td>4479.20</td>\n",
       "      <td>1</td>\n",
       "      <td>0</td>\n",
       "      <td>0</td>\n",
       "      <td>1</td>\n",
       "      <td>2</td>\n",
       "      <td>2</td>\n",
       "      <td>1</td>\n",
       "      <td>1</td>\n",
       "      <td>1</td>\n",
       "      <td>1</td>\n",
       "      <td>False</td>\n",
       "    </tr>\n",
       "    <tr>\n",
       "      <th>2383</th>\n",
       "      <td>1</td>\n",
       "      <td>3</td>\n",
       "      <td>74.60</td>\n",
       "      <td>239.05</td>\n",
       "      <td>0</td>\n",
       "      <td>1</td>\n",
       "      <td>0</td>\n",
       "      <td>1</td>\n",
       "      <td>1</td>\n",
       "      <td>0</td>\n",
       "      <td>2</td>\n",
       "      <td>1</td>\n",
       "      <td>0</td>\n",
       "      <td>1</td>\n",
       "      <td>False</td>\n",
       "    </tr>\n",
       "  </tbody>\n",
       "</table>\n",
       "</div>"
      ],
      "text/plain": [
       "      senior_citizen  tenure  monthly_charges  total_charges  gender_  \\\n",
       "4993               0      56            59.80        3457.45        1   \n",
       "190                0       5            96.10         453.40        1   \n",
       "5071               1      16            54.55         825.10        1   \n",
       "461                0      63            71.90        4479.20        1   \n",
       "2383               1       3            74.60         239.05        0   \n",
       "\n",
       "      has_partner  has_dependents  has_phone_service  has_multiple_lines  \\\n",
       "4993            1               1                  1                   1   \n",
       "190             0               0                  1                   1   \n",
       "5071            1               0                  1                   1   \n",
       "461             0               0                  1                   2   \n",
       "2383            1               0                  1                   1   \n",
       "\n",
       "      contract  internet_service  has_automatic_payment  has_amenities  \\\n",
       "4993         2                 1                      1              0   \n",
       "190          0                 2                      0              0   \n",
       "5071         0                 1                      1              0   \n",
       "461          2                 1                      1              1   \n",
       "2383         0                 2                      1              0   \n",
       "\n",
       "      has_internet_service  target  \n",
       "4993                     1   False  \n",
       "190                      1    True  \n",
       "5071                     1   False  \n",
       "461                      1   False  \n",
       "2383                     1   False  "
      ]
     },
     "execution_count": 4,
     "metadata": {},
     "output_type": "execute_result"
    }
   ],
   "source": [
    "train.head(5)"
   ]
  },
  {
   "cell_type": "markdown",
   "id": "e411eee1-4153-4e5f-99a1-bee2295d4261",
   "metadata": {},
   "source": [
    "## What are we seeing?\n",
    "- We have a lot of categorical features, even after combining several but it's much more palatable now"
   ]
  },
  {
   "cell_type": "markdown",
   "id": "b9dbf4a0-5de4-4769-b721-203a8b03fb57",
   "metadata": {},
   "source": [
    "___"
   ]
  },
  {
   "cell_type": "markdown",
   "id": "eb0de13e-6a14-485b-9d4b-3dc2035312c3",
   "metadata": {},
   "source": [
    "# Exploration"
   ]
  },
  {
   "cell_type": "markdown",
   "id": "191f1089-ad20-4644-a14b-87422673fadb",
   "metadata": {
    "tags": []
   },
   "source": [
    "## Initial Hypothesis/Predictions:\n",
    "- Churn rate is affected by how much a customer pays for their plan.\n",
    "- Amenities or additional benefits a customer will affect churn rate."
   ]
  },
  {
   "cell_type": "markdown",
   "id": "b8619997-6f7b-445b-8ed1-17779e9b6fa5",
   "metadata": {},
   "source": [
    "## Initial Stats Testing"
   ]
  },
  {
   "cell_type": "markdown",
   "id": "dac7771a-5141-42bd-8a50-328f18b6d4c8",
   "metadata": {},
   "source": [
    "## Because we have so many categorical features, we did a $χ^2$ test on a few to determine dependency:\n",
    "### The following features all showed statistical dependence:\n",
    "- monthly charges\n",
    "- if a customer has amenities\n",
    "- if a customer has internet service\n",
    "- if a customer has dependents\n",
    "- contract type"
   ]
  },
  {
   "cell_type": "markdown",
   "id": "f59a9727-ed50-48fd-974a-c67d93a74e72",
   "metadata": {},
   "source": [
    "## After further review of churn rate comparison, we found the top 4 drivers for churn rate:\n",
    "- The greatest difference in churn rate is <font color='yellow'>contract type</font>\n",
    "  - Churn rate drops about <font color='yellow'>40%</font> from a monthly contract to a 2 year contract\n",
    "  - Churn rate drops about <font color='yellow'>30%</font> from a monthly contract to a 1 year contract\n",
    "- Having internet service reduced churn rate by about <font color='yellow'>23%</font>\n",
    "- Having a lower than average monthly charge reduces churn rate by about <font color='yellow'>19%</font>\n",
    "- Senior citizens tend to have a higher churn rate than non-seniors by about <font color='yellow'>19%</font>"
   ]
  },
  {
   "cell_type": "markdown",
   "id": "50574d6a-2c42-4fd1-bce5-7d2dec3ccfe6",
   "metadata": {},
   "source": [
    "___"
   ]
  },
  {
   "cell_type": "markdown",
   "id": "199b99cf-d959-4993-8be4-faaa7a691f75",
   "metadata": {},
   "source": [
    "# Modeling"
   ]
  },
  {
   "cell_type": "markdown",
   "id": "e6979286-a154-4657-a819-a55e8023a981",
   "metadata": {},
   "source": [
    "## The percentage of '0' (or 'Active Customers' in our data) made up <font color='yellow'>73%</font> of all our customers, so our baseline accuracy for our target is <font color='yellow'>73%</font>."
   ]
  },
  {
   "cell_type": "markdown",
   "id": "3c47bd2e-90ec-4d24-b01b-f282340ce8f1",
   "metadata": {},
   "source": [
    "### Four different models were created to determine our best accuracy of our split data:\n",
    "- Decision Tree\n",
    "- Random Forest\n",
    "- KNN\n",
    "- Logistic Regression"
   ]
  },
  {
   "cell_type": "markdown",
   "id": "706730a6-b026-439f-9af2-2dd0f42882a5",
   "metadata": {},
   "source": [
    "### We can visualize the first three"
   ]
  },
  {
   "cell_type": "code",
   "execution_count": 17,
   "id": "4877919f-c55e-46b6-bc94-4277d078de5c",
   "metadata": {
    "tags": []
   },
   "outputs": [
    {
     "data": {
      "image/png": "[encoded data removed]",
      "text/plain": [
       "<Figure size 640x480 with 1 Axes>"
      ]
     },
     "metadata": {},
     "output_type": "display_data"
    },
    {
     "data": {
      "image/png": "[encoded data removed]",
      "text/plain": [
       "<Figure size 640x480 with 1 Axes>"
      ]
     },
     "metadata": {},
     "output_type": "display_data"
    },
    {
     "data": {
      "image/png": "[encoded data removed]",
      "text/plain": [
       "<Figure size 640x480 with 1 Axes>"
      ]
     },
     "metadata": {},
     "output_type": "display_data"
    }
   ],
   "source": [
    "dt_comp()\n",
    "rf_comp()\n",
    "knn_comp()"
   ]
  },
  {
   "cell_type": "markdown",
   "id": "3729b703-ab43-48b8-b9bb-165252eb94dc",
   "metadata": {},
   "source": [
    "#### For Logistic Regression, we created five models with varying feature sizes to cast a wide net and determined the first Model we created had the best accuracy score"
   ]
  },
  {
   "cell_type": "code",
   "execution_count": 18,
   "id": "e48767c7-d887-4924-9a11-8760677528d4",
   "metadata": {
    "tags": []
   },
   "outputs": [
    {
     "name": "stdout",
     "output_type": "stream",
     "text": [
      "Logistic Regression Model Accuracy Scores:\n",
      "\n",
      "Baseline Accuracy Score:\n",
      "73.463013%\n",
      "\n",
      "Model 1 Train Accuracy Score:\n",
      "80.167385%\n",
      "Model 1 Validate Accuracy Score:\n",
      "79.302188%\n",
      "\n",
      "Model 2 Train Accuracy Score:\n",
      "79.939133%\n",
      "Model 2 Validate Accuracy Score:\n",
      "78.888232%\n",
      "\n",
      "Model 3 Train Accuracy Score:\n",
      "79.431905%\n",
      "Model 3 Validate Accuracy Score:\n",
      "78.356002%\n",
      "\n",
      "Model 4 Train Accuracy Score:\n",
      "78.899315%\n",
      "Model 4 Validate Accuracy Score:\n",
      "78.415139%\n",
      "\n",
      "Model 5 Train Accuracy Score:\n",
      "78.721785%\n",
      "Model 5 Validate Accuracy Score:\n",
      "76.700177%    \n"
     ]
    }
   ],
   "source": [
    "lr_comp()"
   ]
  },
  {
   "cell_type": "markdown",
   "id": "3f407f6a-d5b4-47b2-8519-5006e07b5fa2",
   "metadata": {},
   "source": [
    "___"
   ]
  },
  {
   "cell_type": "markdown",
   "id": "f1bf1ba6-c995-4db1-b267-d0e80283c457",
   "metadata": {},
   "source": [
    "#### Best Decision Tree Model Resulted in:\n",
    "#### Training Accuracy of: \n",
    "- <font color='yellow'>80.294192%</font>\n",
    "#### Validate Accuracy of:\n",
    "- <font color='yellow'>80.898876%</font>"
   ]
  },
  {
   "cell_type": "markdown",
   "id": "6e5acc84-64b6-452d-b164-e775ddea7df5",
   "metadata": {},
   "source": [
    "___"
   ]
  },
  {
   "cell_type": "markdown",
   "id": "f63f0a32-4f02-4199-94db-9bee3c37cc01",
   "metadata": {},
   "source": [
    "#### Best Random Forest Model Resulted in:\n",
    "#### Training Accuracy of: \n",
    "- <font color='yellow'>80.243469%</font>\n",
    "#### A Validate Accuracy of:\n",
    "- <font color='yellow'>81.431106%</font>"
   ]
  },
  {
   "cell_type": "markdown",
   "id": "0a1818ba-7cbd-4441-861e-a2d65b25ef64",
   "metadata": {},
   "source": [
    "___"
   ]
  },
  {
   "cell_type": "markdown",
   "id": "6a9680ea-1e5d-44a0-9e95-3bc3d8c7c3b4",
   "metadata": {},
   "source": [
    "#### Best KNN Model Resulted in:\n",
    "#### Training Accuracy of: \n",
    "- <font color='yellow'>80.243469%</font>\n",
    "#### A Validate Accuracy of:\n",
    "- <font color='yellow'>77.942046%</font>"
   ]
  },
  {
   "cell_type": "markdown",
   "id": "b98dfc7d-e8b2-4247-8677-d54c88c0a5a2",
   "metadata": {},
   "source": [
    "___"
   ]
  },
  {
   "cell_type": "markdown",
   "id": "880cba94-0b50-4c5d-928b-293ee0be8de4",
   "metadata": {},
   "source": [
    "#### Best Logistic Regression Model Resulted in:\n",
    "#### Training Accuracy of: \n",
    "- <font color='yellow'>80.167385%</font>\n",
    "#### A Validate Accuracy of:\n",
    "- <font color='yellow'>79.302188%</font>"
   ]
  },
  {
   "cell_type": "markdown",
   "id": "bd18646a-4785-4990-a674-3d828469fdeb",
   "metadata": {},
   "source": [
    "___"
   ]
  },
  {
   "cell_type": "markdown",
   "id": "4d407cbc-b7ce-482b-87ac-cc88a137ba83",
   "metadata": {},
   "source": [
    "### Both our Decision Tree and Random Forest models performed in the 80% range for the training and validation set so we'll run the test set to see which comes out best."
   ]
  },
  {
   "cell_type": "markdown",
   "id": "1637dcca-e89a-4852-988b-3f1a977d9724",
   "metadata": {},
   "source": [
    "#### Decision Tree:\n",
    "Training Accuracy:\n",
    "- <font color='yellow'>80.294192%</font>\n",
    "\n",
    "Validation Accuracy:\n",
    "- <font color='yellow'>80.898876%</font>\n",
    "\n",
    "Test Accuracy:\n",
    "- <font color='yellow'>81.689141%</font>\n",
    "---\n",
    "#### Random Forest:\n",
    "Training Accuracy:\n",
    "- <font color='yellow'>80.420999%</font>\n",
    "\n",
    "Validation Accuracy:\n",
    "- <font color='yellow'>80.721467%</font>\n",
    "\n",
    "Test Accuracy:\n",
    "- <font color='yellow'>81.618169%</font>"
   ]
  },
  {
   "cell_type": "markdown",
   "id": "58b9396b-02b0-44d2-b201-8ee51524f07f",
   "metadata": {},
   "source": [
    "#### So our Decision Tree Model performed the best at almost 82% to our Baseline of about 74%"
   ]
  },
  {
   "cell_type": "markdown",
   "id": "3b0b1a67-8071-48a2-9d1c-a9940cb21d9e",
   "metadata": {},
   "source": [
    "___"
   ]
  },
  {
   "cell_type": "markdown",
   "id": "1b2a5636-8a96-42aa-8c9e-f28551666143",
   "metadata": {},
   "source": [
    "# Conclusion"
   ]
  },
  {
   "cell_type": "code",
   "execution_count": null,
   "id": "db5f6d8c-b0a5-462b-be34-637ae8e0971d",
   "metadata": {},
   "outputs": [],
   "source": []
  },
  {
   "cell_type": "markdown",
   "id": "edab5305-3273-4c68-8499-54e71a6902d4",
   "metadata": {},
   "source": []
  },
  {
   "cell_type": "markdown",
   "id": "a85bc6f0-690a-4de4-b98c-c9ce0dc1b0a4",
   "metadata": {},
   "source": []
  },
  {
   "cell_type": "markdown",
   "id": "a9db58ef-e9ae-4695-9735-cc87205fa6c0",
   "metadata": {},
   "source": []
  },
  {
   "cell_type": "markdown",
   "id": "f4c8b19e-99fe-44a2-a0b9-e01c2aed2814",
   "metadata": {},
   "source": []
  },
  {
   "cell_type": "markdown",
   "id": "21e98887-759b-4f2a-9b66-fe811a52bb08",
   "metadata": {},
   "source": []
  },
  {
   "cell_type": "markdown",
   "id": "6a1fd6a3-ea07-4a67-ade6-1885f4b71a88",
   "metadata": {},
   "source": []
  }
 ],
 "metadata": {
  "kernelspec": {
   "display_name": "Python 3 (ipykernel)",
   "language": "python",
   "name": "python3"
  },
  "language_info": {
   "codemirror_mode": {
    "name": "ipython",
    "version": 3
   },
   "file_extension": ".py",
   "mimetype": "text/x-python",
   "name": "python",
   "nbconvert_exporter": "python",
   "pygments_lexer": "ipython3",
   "version": "3.11.3"
  }
 },
 "nbformat": 4,
 "nbformat_minor": 5
}
